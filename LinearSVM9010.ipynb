{
 "cells": [
  {
   "cell_type": "code",
   "execution_count": 1,
   "id": "cf7b8e18-3a91-4c6c-8582-eb7267828cfe",
   "metadata": {},
   "outputs": [],
   "source": [
    "import sys\n",
    "import argparse\n",
    "\n",
    "import numpy as np\n",
    "import pandas as pd\n",
    "from sklearn.model_selection import train_test_split\n",
    "from sklearn.preprocessing import StandardScaler\n",
    "from sklearn.svm import SVC\n",
    "from sklearn.metrics import accuracy_score, precision_score, recall_score, f1_score\n",
    "from matplotlib import pyplot as plt\n",
    "%matplotlib inline"
   ]
  },
  {
   "cell_type": "code",
   "execution_count": 2,
   "id": "6aae2876-7387-4c38-905a-7ce4bda65d37",
   "metadata": {},
   "outputs": [],
   "source": [
    "df_90 = pd.read_csv('DM_creditcard_2023_train_90_percent.csv')\n",
    "df_10 = pd.read_csv('DM_creditcard_2023_test_10_percent.csv')"
   ]
  },
  {
   "cell_type": "code",
   "execution_count": 3,
   "id": "d81fb0da-9973-45f6-8a0c-05da5f402614",
   "metadata": {},
   "outputs": [
    {
     "name": "stdout",
     "output_type": "stream",
     "text": [
      "Feature names: ['id', 'V1', 'V2', 'V3', 'V4', 'V5', 'V6', 'V7', 'V8', 'V9', 'V10', 'V11', 'V12', 'V13', 'V14', 'V15', 'V16', 'V17', 'V18', 'V19', 'V20', 'V21', 'V22', 'V23', 'V24', 'V25', 'V26', 'V27', 'V28', 'Amount', 'Class_label']\n",
      "Total records: 511767\n",
      "Feature names: ['id', 'V1', 'V2', 'V3', 'V4', 'V5', 'V6', 'V7', 'V8', 'V9', 'V10', 'V11', 'V12', 'V13', 'V14', 'V15', 'V16', 'V17', 'V18', 'V19', 'V20', 'V21', 'V22', 'V23', 'V24', 'V25', 'V26', 'V27', 'V28', 'Amount', 'Class_label']\n",
      "Total records: 56863\n"
     ]
    }
   ],
   "source": [
    "print(\"Feature names:\", list(df_90.columns))\n",
    "print(\"Total records:\", df_90.shape[0])\n",
    "\n",
    "print(\"Feature names:\", list(df_10.columns))\n",
    "print(\"Total records:\", df_10.shape[0])"
   ]
  },
  {
   "cell_type": "code",
   "execution_count": 4,
   "id": "aa272ffa-6e71-4a53-b995-27db24662ceb",
   "metadata": {},
   "outputs": [
    {
     "data": {
      "text/html": [
       "<div>\n",
       "<style scoped>\n",
       "    .dataframe tbody tr th:only-of-type {\n",
       "        vertical-align: middle;\n",
       "    }\n",
       "\n",
       "    .dataframe tbody tr th {\n",
       "        vertical-align: top;\n",
       "    }\n",
       "\n",
       "    .dataframe thead th {\n",
       "        text-align: right;\n",
       "    }\n",
       "</style>\n",
       "<table border=\"1\" class=\"dataframe\">\n",
       "  <thead>\n",
       "    <tr style=\"text-align: right;\">\n",
       "      <th></th>\n",
       "      <th>id</th>\n",
       "      <th>V1</th>\n",
       "      <th>V2</th>\n",
       "      <th>V3</th>\n",
       "      <th>V4</th>\n",
       "      <th>V5</th>\n",
       "      <th>V6</th>\n",
       "      <th>V7</th>\n",
       "      <th>V8</th>\n",
       "      <th>V9</th>\n",
       "      <th>...</th>\n",
       "      <th>V21</th>\n",
       "      <th>V22</th>\n",
       "      <th>V23</th>\n",
       "      <th>V24</th>\n",
       "      <th>V25</th>\n",
       "      <th>V26</th>\n",
       "      <th>V27</th>\n",
       "      <th>V28</th>\n",
       "      <th>Amount</th>\n",
       "      <th>Class_label</th>\n",
       "    </tr>\n",
       "  </thead>\n",
       "  <tbody>\n",
       "    <tr>\n",
       "      <th>0</th>\n",
       "      <td>437378</td>\n",
       "      <td>0.420468</td>\n",
       "      <td>-0.070194</td>\n",
       "      <td>-0.569266</td>\n",
       "      <td>0.191673</td>\n",
       "      <td>-0.009607</td>\n",
       "      <td>0.426903</td>\n",
       "      <td>-0.356728</td>\n",
       "      <td>0.096143</td>\n",
       "      <td>0.077806</td>\n",
       "      <td>...</td>\n",
       "      <td>0.134969</td>\n",
       "      <td>0.070433</td>\n",
       "      <td>0.047770</td>\n",
       "      <td>-0.851622</td>\n",
       "      <td>0.102876</td>\n",
       "      <td>-0.375436</td>\n",
       "      <td>0.820807</td>\n",
       "      <td>0.665983</td>\n",
       "      <td>8633.18</td>\n",
       "      <td>1</td>\n",
       "    </tr>\n",
       "    <tr>\n",
       "      <th>1</th>\n",
       "      <td>504222</td>\n",
       "      <td>-0.238944</td>\n",
       "      <td>0.250929</td>\n",
       "      <td>-0.374408</td>\n",
       "      <td>0.152938</td>\n",
       "      <td>-0.105008</td>\n",
       "      <td>-0.039028</td>\n",
       "      <td>-0.293004</td>\n",
       "      <td>0.133771</td>\n",
       "      <td>-0.591631</td>\n",
       "      <td>...</td>\n",
       "      <td>0.192405</td>\n",
       "      <td>0.289441</td>\n",
       "      <td>-0.255187</td>\n",
       "      <td>-0.817462</td>\n",
       "      <td>0.308284</td>\n",
       "      <td>1.582688</td>\n",
       "      <td>0.574425</td>\n",
       "      <td>0.478489</td>\n",
       "      <td>12299.55</td>\n",
       "      <td>1</td>\n",
       "    </tr>\n",
       "    <tr>\n",
       "      <th>2</th>\n",
       "      <td>4794</td>\n",
       "      <td>-0.117796</td>\n",
       "      <td>-0.147961</td>\n",
       "      <td>2.130455</td>\n",
       "      <td>-0.325762</td>\n",
       "      <td>0.325616</td>\n",
       "      <td>0.271351</td>\n",
       "      <td>0.772625</td>\n",
       "      <td>-0.244342</td>\n",
       "      <td>1.240012</td>\n",
       "      <td>...</td>\n",
       "      <td>-0.271739</td>\n",
       "      <td>-0.404654</td>\n",
       "      <td>-0.121235</td>\n",
       "      <td>0.857659</td>\n",
       "      <td>0.541920</td>\n",
       "      <td>0.756534</td>\n",
       "      <td>-0.238177</td>\n",
       "      <td>-0.403038</td>\n",
       "      <td>5215.87</td>\n",
       "      <td>0</td>\n",
       "    </tr>\n",
       "    <tr>\n",
       "      <th>3</th>\n",
       "      <td>388411</td>\n",
       "      <td>-0.855315</td>\n",
       "      <td>0.137014</td>\n",
       "      <td>-0.628116</td>\n",
       "      <td>0.613733</td>\n",
       "      <td>-0.643573</td>\n",
       "      <td>-0.664283</td>\n",
       "      <td>-0.880040</td>\n",
       "      <td>0.466586</td>\n",
       "      <td>-1.045508</td>\n",
       "      <td>...</td>\n",
       "      <td>0.405505</td>\n",
       "      <td>0.167560</td>\n",
       "      <td>0.446262</td>\n",
       "      <td>-0.205976</td>\n",
       "      <td>0.492582</td>\n",
       "      <td>0.658619</td>\n",
       "      <td>1.609128</td>\n",
       "      <td>-0.025592</td>\n",
       "      <td>19282.98</td>\n",
       "      <td>1</td>\n",
       "    </tr>\n",
       "    <tr>\n",
       "      <th>4</th>\n",
       "      <td>424512</td>\n",
       "      <td>0.257686</td>\n",
       "      <td>0.035247</td>\n",
       "      <td>-0.203112</td>\n",
       "      <td>0.506745</td>\n",
       "      <td>-0.242235</td>\n",
       "      <td>-0.192608</td>\n",
       "      <td>-0.289297</td>\n",
       "      <td>0.044488</td>\n",
       "      <td>-0.396122</td>\n",
       "      <td>...</td>\n",
       "      <td>0.162191</td>\n",
       "      <td>0.165912</td>\n",
       "      <td>-0.181999</td>\n",
       "      <td>0.331451</td>\n",
       "      <td>1.043095</td>\n",
       "      <td>0.029799</td>\n",
       "      <td>0.643273</td>\n",
       "      <td>0.736723</td>\n",
       "      <td>19114.27</td>\n",
       "      <td>1</td>\n",
       "    </tr>\n",
       "  </tbody>\n",
       "</table>\n",
       "<p>5 rows × 31 columns</p>\n",
       "</div>"
      ],
      "text/plain": [
       "       id        V1        V2        V3        V4        V5        V6  \\\n",
       "0  437378  0.420468 -0.070194 -0.569266  0.191673 -0.009607  0.426903   \n",
       "1  504222 -0.238944  0.250929 -0.374408  0.152938 -0.105008 -0.039028   \n",
       "2    4794 -0.117796 -0.147961  2.130455 -0.325762  0.325616  0.271351   \n",
       "3  388411 -0.855315  0.137014 -0.628116  0.613733 -0.643573 -0.664283   \n",
       "4  424512  0.257686  0.035247 -0.203112  0.506745 -0.242235 -0.192608   \n",
       "\n",
       "         V7        V8        V9  ...       V21       V22       V23       V24  \\\n",
       "0 -0.356728  0.096143  0.077806  ...  0.134969  0.070433  0.047770 -0.851622   \n",
       "1 -0.293004  0.133771 -0.591631  ...  0.192405  0.289441 -0.255187 -0.817462   \n",
       "2  0.772625 -0.244342  1.240012  ... -0.271739 -0.404654 -0.121235  0.857659   \n",
       "3 -0.880040  0.466586 -1.045508  ...  0.405505  0.167560  0.446262 -0.205976   \n",
       "4 -0.289297  0.044488 -0.396122  ...  0.162191  0.165912 -0.181999  0.331451   \n",
       "\n",
       "        V25       V26       V27       V28    Amount  Class_label  \n",
       "0  0.102876 -0.375436  0.820807  0.665983   8633.18            1  \n",
       "1  0.308284  1.582688  0.574425  0.478489  12299.55            1  \n",
       "2  0.541920  0.756534 -0.238177 -0.403038   5215.87            0  \n",
       "3  0.492582  0.658619  1.609128 -0.025592  19282.98            1  \n",
       "4  1.043095  0.029799  0.643273  0.736723  19114.27            1  \n",
       "\n",
       "[5 rows x 31 columns]"
      ]
     },
     "execution_count": 4,
     "metadata": {},
     "output_type": "execute_result"
    }
   ],
   "source": [
    "df_90.head()\n",
    "df_10.head()"
   ]
  },
  {
   "cell_type": "code",
   "execution_count": 5,
   "id": "f251cee8-9da3-4020-b98f-7ffe660baf85",
   "metadata": {},
   "outputs": [],
   "source": [
    "df_90_1 = df_90[df_90.Class_label == 1]\n",
    "df_90_0 = df_90[df_90.Class_label == 0]"
   ]
  },
  {
   "cell_type": "code",
   "execution_count": 6,
   "id": "c2b75461-a753-495c-bddd-e76fdb68a69f",
   "metadata": {},
   "outputs": [
    {
     "data": {
      "text/plain": [
       "<matplotlib.collections.PathCollection at 0x1c8c66fb4d0>"
      ]
     },
     "execution_count": 6,
     "metadata": {},
     "output_type": "execute_result"
    },
    {
     "data": {
      "image/png": "[encoded data removed]",
      "text/plain": [
       "<Figure size 640x480 with 1 Axes>"
      ]
     },
     "metadata": {},
     "output_type": "display_data"
    }
   ],
   "source": [
    "plt.xlabel('V3')\n",
    "plt.ylabel('Ammount')\n",
    "plt.scatter(df_90_1['V2'], df_90_1['V3'], color='red', marker='+')\n",
    "plt.scatter(df_90_0['V2'], df_90_0['V3'], color='blue', marker='.')"
   ]
  },
  {
   "cell_type": "code",
   "execution_count": 7,
   "id": "f3e2ea17-a32e-4f79-b6ff-e93466df5d5b",
   "metadata": {},
   "outputs": [],
   "source": [
    "X_train = df_90.drop('Class_label', axis=1)\n",
    "y_train = df_90['Class_label']\n",
    "\n",
    "X_test = df_10.drop('Class_label', axis=1)\n",
    "y_test = df_10['Class_label']"
   ]
  },
  {
   "cell_type": "code",
   "execution_count": 8,
   "id": "2de7edb9-df88-4385-bc12-e20da758f1a9",
   "metadata": {},
   "outputs": [
    {
     "name": "stdout",
     "output_type": "stream",
     "text": [
      "511767\n",
      "56863\n"
     ]
    }
   ],
   "source": [
    "print(len(X_train))\n",
    "print(len(X_test))"
   ]
  },
  {
   "cell_type": "code",
   "execution_count": 9,
   "id": "513403f7-6688-4834-9aef-95d369f0c0fe",
   "metadata": {},
   "outputs": [],
   "source": [
    "from sklearn.svm import SVC\n",
    "svm_model = SVC(kernel='linear')  # Linear kernel and C=1.0 (can adjust these parameters)"
   ]
  },
  {
   "cell_type": "code",
   "execution_count": 10,
   "id": "109090ca-1f98-49bc-9736-8d565b98f082",
   "metadata": {},
   "outputs": [
    {
     "name": "stdout",
     "output_type": "stream",
     "text": [
      "[1 1 0 ... 0 0 1]\n"
     ]
    }
   ],
   "source": [
    "# Fit the model to the training data\n",
    "svm_model.fit(X_train, y_train)\n",
    "y_pred = svm_model.predict(X_test)\n",
    "print(y_pred)"
   ]
  },
  {
   "cell_type": "code",
   "execution_count": 11,
   "id": "6b499458-e952-4ca8-b265-80c27a0f7efb",
   "metadata": {},
   "outputs": [],
   "source": [
    "percentage = svm_model.score(X_test, y_test)"
   ]
  },
  {
   "cell_type": "code",
   "execution_count": 12,
   "id": "e585c329-686a-4396-a70e-1899aa886c53",
   "metadata": {},
   "outputs": [
    {
     "name": "stdout",
     "output_type": "stream",
     "text": [
      "Accuracy: 0.9989624184443311\n",
      "Precision: 1.0\n",
      "Recall: 0.9979198984628402\n",
      "F1 Score: 0.998958866399619\n",
      "Confusion Matrix:\n",
      "[[28499     0]\n",
      " [   59 28305]]\n"
     ]
    }
   ],
   "source": [
    "from sklearn.metrics import accuracy_score, precision_score, recall_score, f1_score, confusion_matrix\n",
    "\n",
    "print(\"Accuracy:\", accuracy_score(y_test, y_pred))\n",
    "print(\"Precision:\", precision_score(y_test, y_pred))\n",
    "print(\"Recall:\", recall_score(y_test, y_pred))\n",
    "print(\"F1 Score:\", f1_score(y_test, y_pred))\n",
    "\n",
    "conf_matrix = confusion_matrix(y_test, y_pred)\n",
    "print(\"Confusion Matrix:\")\n",
    "print(conf_matrix)"
   ]
  },
  {
   "cell_type": "code",
   "execution_count": 13,
   "id": "aa83b1c0-8368-4c52-b2b9-380e9ae16270",
   "metadata": {},
   "outputs": [],
   "source": [
    "# Add predictions as a new column to df_10\n",
    "df_10['Predicted_Class'] = predictions\n",
    "\n",
    "# Save the updated DataFrame back to a CSV file\n",
    "df_10.to_csv('DM_creditcard_2023_test_10_percent.csv', index=False)\n"
   ]
  }
 ],
 "metadata": {
  "kernelspec": {
   "display_name": "Python 3 (ipykernel)",
   "language": "python",
   "name": "python3"
  },
  "language_info": {
   "codemirror_mode": {
    "name": "ipython",
    "version": 3
   },
   "file_extension": ".py",
   "mimetype": "text/x-python",
   "name": "python",
   "nbconvert_exporter": "python",
   "pygments_lexer": "ipython3",
   "version": "3.11.7"
  }
 },
 "nbformat": 4,
 "nbformat_minor": 5
}
