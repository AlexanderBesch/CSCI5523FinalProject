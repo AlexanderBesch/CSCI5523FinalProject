{
 "cells": [
  {
   "cell_type": "code",
   "execution_count": 9,
   "metadata": {},
   "outputs": [],
   "source": [
    "from sklearn.model_selection import train_test_split, StratifiedKFold\n",
    "from sklearn.neighbors import KNeighborsClassifier\n",
    "from sklearn.preprocessing import StandardScaler\n",
    "import pandas as pd"
   ]
  },
  {
   "cell_type": "code",
   "execution_count": 10,
   "metadata": {},
   "outputs": [
    {
     "name": "stdout",
     "output_type": "stream",
     "text": [
      "Data Head:           V1        V2        V3        V4        V5        V6        V7   \n",
      "0 -0.260648 -0.469648  2.496266 -0.083724  0.129681  0.732898  0.519014  \\\n",
      "1  0.985100 -0.356045  0.558056 -0.429654  0.277140  0.428605  0.406466   \n",
      "2 -0.260272 -0.949385  1.728538 -0.457986  0.074062  1.419481  0.743511   \n",
      "3 -0.152152 -0.508959  1.746840 -1.090178  0.249486  1.143312  0.518269   \n",
      "4 -0.206820 -0.165280  1.527053 -0.448293  0.106125  0.530549  0.658849   \n",
      "\n",
      "         V8        V9       V10  ...       V21       V22       V23       V24   \n",
      "0 -0.130006  0.727159  0.637735  ... -0.110552  0.217606 -0.134794  0.165959  \\\n",
      "1 -0.133118  0.347452  0.529808  ... -0.194936 -0.605761  0.079469 -0.577395   \n",
      "2 -0.095576 -0.261297  0.690708  ... -0.005020  0.702906  0.945045 -1.154666   \n",
      "3 -0.065130 -0.205698  0.575231  ... -0.146927 -0.038212 -0.214048 -1.893131   \n",
      "4 -0.212660  1.049921  0.968046  ... -0.106984  0.729727 -0.161666  0.312561   \n",
      "\n",
      "        V25       V26       V27       V28    Amount  Class  \n",
      "0  0.126280 -0.434824 -0.081230 -0.151045  17982.10      0  \n",
      "1  0.190090  0.296503 -0.248052 -0.064512   6531.37      0  \n",
      "2 -0.605564 -0.312895 -0.300258 -0.244718   2513.54      0  \n",
      "3  1.003963 -0.515950 -0.165316  0.048424   5384.44      0  \n",
      "4 -0.414116  1.071126  0.023712  0.419117  14278.97      0  \n",
      "\n",
      "[5 rows x 30 columns]\n",
      "Data Loaded Successfully!\n"
     ]
    }
   ],
   "source": [
    "data = pd.read_csv(\"creditcard_2023.csv\", header=0)\n",
    "data = data.drop(columns=['id'])\n",
    "print(\"Data Head: \", data.head())\n",
    "print(\"Data Loaded Successfully!\")"
   ]
  },
  {
   "cell_type": "code",
   "execution_count": 14,
   "metadata": {},
   "outputs": [
    {
     "name": "stdout",
     "output_type": "stream",
     "text": [
      " Accuracy for k-nn when Num_neighbors=2 is 0.9990210388712051\n",
      " Accuracy for k-nn when Num_neighbors=4 is 0.9982765594499059\n",
      " Accuracy for k-nn when Num_neighbors=6 is 0.9976727690531042\n",
      " Accuracy for k-nn when Num_neighbors=8 is 0.9971803574673631\n",
      " Accuracy for k-nn when Num_neighbors=10 is 0.9966351874974354\n",
      " Accuracy for k-nn when Num_neighbors=12 is 0.9962717408508168\n",
      " Accuracy for k-nn when Num_neighbors=14 is 0.995873121948074\n",
      " Accuracy for k-nn when Num_neighbors=16 is 0.9955858818563916\n",
      " Accuracy for k-nn when Num_neighbors=18 is 0.9952165731670858\n",
      " Accuracy for k-nn when Num_neighbors=20 is 0.9948824367339043\n",
      "Accuracy Dict:  {2: 0.9990210388712051, 4: 0.9982765594499059, 6: 0.9976727690531042, 8: 0.9971803574673631, 10: 0.9966351874974354, 12: 0.9962717408508168, 14: 0.995873121948074, 16: 0.9955858818563916, 18: 0.9952165731670858, 20: 0.9948824367339043}\n"
     ]
    }
   ],
   "source": [
    "from sklearn.metrics import accuracy_score\n",
    "from sklearn.metrics import confusion_matrix\n",
    "\n",
    "y = data['Class']\n",
    "X = data.drop(columns=['Class'])\n",
    "X_train, X_test, y_train, y_test = train_test_split(X, y, test_size=0.3, random_state=42, stratify=y)\n",
    "\n",
    "num_neighbors = [2, 4, 6, 8, 10, 12, 14, 16, 18, 20]\n",
    "accuracy_dict = {}\n",
    "for k in num_neighbors:\n",
    "    knn = KNeighborsClassifier(n_neighbors=k)\n",
    "    scaler = StandardScaler()\n",
    "    x_train_scaled = scaler.fit_transform(X_train)\n",
    "    x_test_scaled = scaler.transform(X_test)\n",
    "\n",
    "    knn.fit(x_train_scaled, y_train)\n",
    "    knn_pred = knn.predict(x_test_scaled)\n",
    "    print (f\" Accuracy for k-nn when Num_neighbors={k} is {accuracy_score(y_test, knn_pred)}\")\n",
    "    accuracy_dict[k] = accuracy_score(y_test, knn_pred)\n",
    "\n",
    "print(\"Accuracy Dict: \", accuracy_dict)\n"
   ]
  },
  {
   "cell_type": "code",
   "execution_count": 15,
   "metadata": {},
   "outputs": [
    {
     "name": "stdout",
     "output_type": "stream",
     "text": [
      " Accuracy for k-nn when Num_neighbors=1 is 0.9989682804870185\n",
      " Accuracy for k-nn when Num_neighbors=2 is 0.9990210388712051\n",
      " Accuracy for k-nn when Num_neighbors=3 is 0.9981769047242202\n",
      "Accuracy Dict:  {1: 0.9989682804870185, 2: 0.9990210388712051, 3: 0.9981769047242202}\n",
      "Maximum Accuracy is achieved when Num_neighbors= 2\n"
     ]
    }
   ],
   "source": [
    "## Now we know the accuracy of the model is highest with less than K=4\n",
    "num_neighbors = [1, 2, 3]\n",
    "accuracy_dict = {}\n",
    "for k in num_neighbors:\n",
    "    knn = KNeighborsClassifier(n_neighbors=k)\n",
    "    scaler = StandardScaler()\n",
    "    x_train_scaled = scaler.fit_transform(X_train)\n",
    "    x_test_scaled = scaler.transform(X_test)\n",
    "\n",
    "    knn.fit(x_train_scaled, y_train)\n",
    "    knn_pred = knn.predict(x_test_scaled)\n",
    "    print (f\" Accuracy for k-nn when Num_neighbors={k} is {accuracy_score(y_test, knn_pred)}\")\n",
    "    accuracy_dict[k] = accuracy_score(y_test, knn_pred)\n",
    "\n",
    "print(\"Accuracy Dict: \", accuracy_dict)\n",
    "\n",
    "# print(\"Accuracy Dict: \", accuracy_dict)\n",
    "print('Maximum Accuracy is achieved when Num_neighbors=', max(accuracy_dict, key=accuracy_dict.get))"
   ]
  },
  {
   "cell_type": "code",
   "execution_count": 16,
   "metadata": {},
   "outputs": [
    {
     "name": "stdout",
     "output_type": "stream",
     "text": [
      " Accuracy for k-nn when Num_neighbors=1 is 0.9989682804870185\n",
      " Accuracy for k-nn when Num_neighbors=2 is 0.9989682804870185\n",
      " Accuracy for k-nn when Num_neighbors=3 is 0.9982062149376572\n",
      "Accuracy Dict:  {1: 0.9989682804870185, 2: 0.9989682804870185, 3: 0.9982062149376572}\n",
      "Maximum Accuracy is achieved when Num_neighbors= 1\n"
     ]
    }
   ],
   "source": [
    "## Now we will use the distance of the clusters to classify the data\n",
    "num_neighbors = [1, 2, 3]\n",
    "accuracy_dict = {}\n",
    "for k in num_neighbors:\n",
    "    knn = KNeighborsClassifier(n_neighbors=k, weights='distance')\n",
    "    scaler = StandardScaler()\n",
    "    x_train_scaled = scaler.fit_transform(X_train)\n",
    "    x_test_scaled = scaler.transform(X_test)\n",
    "\n",
    "    knn.fit(x_train_scaled, y_train)\n",
    "    knn_pred = knn.predict(x_test_scaled)\n",
    "    print (f\" Accuracy for k-nn when Num_neighbors={k} is {accuracy_score(y_test, knn_pred)}\")\n",
    "    accuracy_dict[k] = accuracy_score(y_test, knn_pred)\n",
    "\n",
    "print(\"Accuracy Dict: \", accuracy_dict)\n",
    "\n",
    "# print(\"Accuracy Dict: \", accuracy_dict)\n",
    "print('Maximum Accuracy is achieved when Num_neighbors=', max(accuracy_dict, key=accuracy_dict.get))"
   ]
  },
  {
   "cell_type": "code",
   "execution_count": 17,
   "metadata": {},
   "outputs": [
    {
     "name": "stdout",
     "output_type": "stream",
     "text": [
      " Accuracy for k-nn when Num_neighbors=1 is 0.9989682804870185\n",
      " Accuracy for k-nn when Num_neighbors=2 is 0.9990210388712051\n",
      " Accuracy for k-nn when Num_neighbors=3 is 0.9981769047242202\n",
      " Accuracy for k-nn when Num_neighbors=4 is 0.9982765594499059\n",
      " Accuracy for k-nn when Num_neighbors=5 is 0.997608286583543\n",
      "Maximum Accuracy is achieved when Num_neighbors= 2\n",
      "Accuracy Dict:  {1: 0.9989682804870185, 2: 0.9990210388712051, 3: 0.9981769047242202, 4: 0.9982765594499059, 5: 0.997608286583543}\n",
      "Confusion Matrix:  {1: array([[85123,   172],\n",
      "       [    4, 85290]]), 2: array([[85139,   156],\n",
      "       [   11, 85283]]), 3: array([[84985,   310],\n",
      "       [    1, 85293]]), 4: array([[85002,   293],\n",
      "       [    1, 85293]]), 5: array([[84887,   408],\n",
      "       [    0, 85294]])}\n"
     ]
    }
   ],
   "source": [
    "## Now we know that the most accurate classification is when K=2, and the distance is NOT used to classify the data.\n",
    "\n",
    "## Now we will re-run the K-means using 1, 2, 3, 4, 5 neighbors and find the confusion matrix as well as other properties\n",
    "\n",
    "num_neighbors = [1, 2, 3, 4, 5]\n",
    "accuracy_dict = {}\n",
    "confusion_matrix_dict = {}\n",
    "for k in num_neighbors:\n",
    "    knn = KNeighborsClassifier(n_neighbors=k)\n",
    "    scaler = StandardScaler()\n",
    "    x_train_scaled = scaler.fit_transform(X_train)\n",
    "    x_test_scaled = scaler.transform(X_test)\n",
    "\n",
    "    knn.fit(x_train_scaled, y_train)\n",
    "    knn_pred = knn.predict(x_test_scaled)\n",
    "    print (f\" Accuracy for k-nn when Num_neighbors={k} is {accuracy_score(y_test, knn_pred)}\")\n",
    "    accuracy_dict[k] = accuracy_score(y_test, knn_pred)\n",
    "\n",
    "    # Confusion Matrix\n",
    "    conf_matrix = confusion_matrix(y_test, knn_pred)\n",
    "    confusion_matrix_dict[k] = conf_matrix\n",
    "\n",
    "# print(\"Accuracy Dict: \", accuracy_dict)\n",
    "print('Maximum Accuracy is achieved when Num_neighbors=', max(accuracy_dict, key=accuracy_dict.get))\n",
    "print(\"Accuracy Dict: \", accuracy_dict)\n",
    "print(\"Confusion Matrix: \", confusion_matrix_dict)\n"
   ]
  },
  {
   "cell_type": "code",
   "execution_count": 19,
   "metadata": {},
   "outputs": [
    {
     "name": "stdout",
     "output_type": "stream",
     "text": [
      "Confusion Matrix for Num_neighbors=1:\n",
      "[[85123   172]\n",
      " [    4 85290]]\n",
      "Accuracy:  0.9989682804870185\n",
      "F1 Score for k=1: 0.9989692895125208\n",
      "False Positive Rate for k=1: 0.002016530863473826\n",
      "False Negative Rate for k=1: 4.689661640912608e-05\n",
      "Precision for k=1: 0.997987409608949\n",
      "True Positive Rate for k=1: 0.9999531033835909\n",
      "\n",
      "Confusion Matrix for Num_neighbors=2:\n",
      "[[85139   156]\n",
      " [   11 85283]]\n",
      "Accuracy:  0.9990210388712051\n",
      "F1 Score for k=2: 0.9990218645487399\n",
      "False Positive Rate for k=2: 0.0018289465971041679\n",
      "False Negative Rate for k=2: 0.00012896569512509673\n",
      "Precision for k=2: 0.9981741359332389\n",
      "True Positive Rate for k=2: 0.9998710343048749\n",
      "\n",
      "Confusion Matrix for Num_neighbors=3:\n",
      "[[84985   310]\n",
      " [    1 85293]]\n",
      "Accuracy:  0.9981769047242202\n",
      "F1 Score for k=3: 0.9981801904070873\n",
      "False Positive Rate for k=3: 0.0036344451609121287\n",
      "False Negative Rate for k=3: 1.172415410228152e-05\n",
      "Precision for k=3: 0.9963786315900144\n",
      "True Positive Rate for k=3: 0.9999882758458977\n",
      "\n",
      "Confusion Matrix for Num_neighbors=4:\n",
      "[[85002   293]\n",
      " [    1 85293]]\n",
      "Accuracy:  0.9982765594499059\n",
      "F1 Score for k=4: 0.9982794943820225\n",
      "False Positive Rate for k=4: 0.0034351368778943667\n",
      "False Negative Rate for k=4: 1.172415410228152e-05\n",
      "Precision for k=4: 0.9965765428925292\n",
      "True Positive Rate for k=4: 0.9999882758458977\n",
      "\n",
      "Confusion Matrix for Num_neighbors=5:\n",
      "[[84887   408]\n",
      " [    0 85294]]\n",
      "Accuracy:  0.997608286583543\n",
      "F1 Score for k=5: 0.997613979274369\n",
      "False Positive Rate for k=5: 0.0047833987924262855\n",
      "False Negative Rate for k=5: 0.0\n",
      "Precision for k=5: 0.9952393176355278\n",
      "True Positive Rate for k=5: 1.0\n",
      "\n"
     ]
    },
    {
     "data": {
      "image/png": "[encoded data removed]",
      "text/plain": [
       "<Figure size 800x600 with 2 Axes>"
      ]
     },
     "metadata": {},
     "output_type": "display_data"
    }
   ],
   "source": [
    "import seaborn as sns\n",
    "import matplotlib.pyplot as plt\n",
    "# Find the best confusion matrix\n",
    "# conf_matrix = confusion_matrix(y_test, knn_pred)\n",
    "# print(\"Confusion Matrix:\")\n",
    "# print(conf_matrix)\n",
    "\n",
    "num_neighbors = [1, 2, 3, 4, 5]\n",
    "for k in num_neighbors:\n",
    "    print(f\"Confusion Matrix for Num_neighbors={k}:\")\n",
    "    print(confusion_matrix_dict[k])\n",
    "    # Accuracy\n",
    "    print(\"Accuracy: \", accuracy_dict[k])\n",
    "    # F1 Score\n",
    "    f_score = 2 * confusion_matrix_dict[k][1][1] / (2 * confusion_matrix_dict[k][1][1] + confusion_matrix_dict[k][1][0] + confusion_matrix_dict[k][0][1])\n",
    "    print(f\"F1 Score for k={k}: {f_score}\")\n",
    "    # False positive rate\n",
    "    fpr = confusion_matrix_dict[k][0][1] / (confusion_matrix_dict[k][0][1] + confusion_matrix_dict[k][0][0])\n",
    "    print(f\"False Positive Rate for k={k}: {fpr}\")\n",
    "    # False negative rate\n",
    "    fnr = confusion_matrix_dict[k][1][0] / (confusion_matrix_dict[k][1][0] + confusion_matrix_dict[k][1][1])\n",
    "    print(f\"False Negative Rate for k={k}: {fnr}\")\n",
    "    # precision\n",
    "    precision = confusion_matrix_dict[k][1][1] / (confusion_matrix_dict[k][1][1] + confusion_matrix_dict[k][0][1])\n",
    "    print(f\"Precision for k={k}: {precision}\")\n",
    "    # True positive rate\n",
    "    tpr = confusion_matrix_dict[k][1][1] / (confusion_matrix_dict[k][1][1] + confusion_matrix_dict[k][1][0])\n",
    "    print(f\"True Positive Rate for k={k}: {tpr}\")\n",
    "    print()\n",
    "\n",
    "\n",
    "\n",
    "\n",
    "\n",
    "conf_matrix = confusion_matrix_dict[max(accuracy_dict, key=accuracy_dict.get)]\n",
    "\n",
    "# Plot confusion matrix\n",
    "plt.figure(figsize=(8, 6))\n",
    "sns.heatmap(conf_matrix, annot=True, fmt='d', cmap='Blues', xticklabels=['Class 0', 'Class 1'], yticklabels=['Class 0', 'Class 1'])\n",
    "plt.xlabel('Predicted')\n",
    "plt.ylabel('Actual')\n",
    "plt.title('kNN Confusion Matrix')\n",
    "plt.show()"
   ]
  }
 ],
 "metadata": {
  "kernelspec": {
   "display_name": "Python 3.10 (tensorflow)",
   "language": "python",
   "name": "tensorflow"
  },
  "language_info": {
   "codemirror_mode": {
    "name": "ipython",
    "version": 3
   },
   "file_extension": ".py",
   "mimetype": "text/x-python",
   "name": "python",
   "nbconvert_exporter": "python",
   "pygments_lexer": "ipython3",
   "version": "3.10.10"
  }
 },
 "nbformat": 4,
 "nbformat_minor": 2
}
